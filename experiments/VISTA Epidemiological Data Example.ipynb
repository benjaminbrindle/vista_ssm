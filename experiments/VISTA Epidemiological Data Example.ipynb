{
 "cells": [
  {
   "cell_type": "code",
   "execution_count": null,
   "id": "f852b711-6660-4e28-9c90-e923ccd89209",
   "metadata": {},
   "outputs": [],
   "source": [
    "from vista_ssm import vista_ssm_Funcs as vista\n",
    "import matplotlib.pyplot as plt\n",
    "import matplotlib as mpl\n",
    "mpl.rcParams['figure.dpi']=600\n",
    "import numpy as np\n",
    "import pandas as pd\n",
    "import folium"
   ]
  },
  {
   "cell_type": "code",
   "execution_count": 2,
   "id": "3d48d152-0337-4e89-893c-6c24fbebcbc9",
   "metadata": {},
   "outputs": [
    {
     "name": "stdout",
     "output_type": "stream",
     "text": [
      "(53, 173, 2, 1)\n"
     ]
    }
   ],
   "source": [
    "M=np.load('../data/Euro_data.npy')\n",
    "M=M[[x for x in range(55) if ((x != 50)&(x != 19))]]\n",
    "M=M[:,:,:174] \n",
    "Md=M[:,:,1:]-M[:,:,0:-1]\n",
    "\n",
    "dataset=Md\n",
    "dataset=dataset/np.kron(np.kron(np.ones((53,1)),dataset.max(axis=0).max(axis=1)).reshape(53,2,1),np.ones(173))\n",
    "\n",
    "dataset=np.transpose(dataset,(0,2,1))\n",
    "dataset=dataset.reshape(dataset.shape[0],dataset.shape[1],dataset.shape[2],1)\n",
    "print(dataset.shape)"
   ]
  },
  {
   "cell_type": "code",
   "execution_count": null,
   "id": "6ec0658e",
   "metadata": {},
   "outputs": [],
   "source": [
    "for nc in range(3,9):\n",
    "    for dx in range(2,9):\n",
    "        param_dic={'DIM_X': dx,\n",
    "           'DIM_Y': dataset.shape[2],\n",
    "           'NUM_DATA': dataset.shape[0],\n",
    "           'N_CLUSTER' : nc,\n",
    "           'NUM_CPU' : 30,\n",
    "           'FIX' : [],\n",
    "           'NUM_LGSSM' : 30,\n",
    "           'MAX_ITER' : 1000,\n",
    "           'EPSILON' : 0.1,\n",
    "           'BIC' : True}\n",
    "        \n",
    "        result=vista.runVISTA('ident',param_dic,dataset)\n",
    "        vista.savedic(result,'../results/epidemiological/epidemiological_ident_'+str(nc)+'_cluster_'+str(dx)+'_latent_0.pickle')"
   ]
  },
  {
   "cell_type": "code",
   "execution_count": 3,
   "id": "b67a6498-50e7-43da-93bf-f638b704d617",
   "metadata": {},
   "outputs": [
    {
     "name": "stdout",
     "output_type": "stream",
     "text": [
      "Information Criteria:\n",
      "\n",
      "ABIC:\n",
      "           3          4          5          6          7          8\n",
      "2  -9.42E+04  -9.73E+04  -9.84E+04  -9.85E+04  -9.86E+04  -9.97E+04\n",
      "3  -9.73E+04  -1.00E+05  -1.02E+05  -1.02E+05  -1.01E+05  -1.02E+05\n",
      "4  -9.79E+04  -1.04E+05  -1.03E+05  -1.04E+05  -1.01E+05  -1.02E+05\n",
      "5  -9.92E+04  -9.49E+04  -1.02E+05  -1.04E+05  -1.05E+05  -1.05E+05\n",
      "6  -9.51E+04  -1.02E+05  -1.02E+05  -1.03E+05  -1.05E+05  -1.04E+05\n",
      "7  -9.90E+04  -9.36E+04  -9.95E+04  -1.04E+05  -9.82E+04  -1.02E+05\n",
      "8  -9.87E+04  -9.54E+04  -9.81E+04  -1.03E+05  -1.01E+05  -1.00E+05\n"
     ]
    }
   ],
   "source": [
    "vista.agg_perf('../results/epidemiological/epidemiological_ident_',[3,4,5,6,7,8],list(range(2,9)),1,criteria=[1],std=[False,True])"
   ]
  },
  {
   "cell_type": "code",
   "execution_count": 4,
   "id": "d02f3b82",
   "metadata": {},
   "outputs": [],
   "source": [
    "#https://realpython.com/python-folium-web-maps-from-data/\n",
    "\n",
    "def countryplot(s,color='Set1'):\n",
    "    result=vista.loaddic(s)\n",
    "    \n",
    "    list_countries=np.load('../data/country_list.npy')\n",
    "    list_countries=np.delete(list_countries,50)\n",
    "    list_countries[26]='Kosovo'\n",
    "    list_countries[34]='Netherlands'\n",
    "    list_countries[39]='Moldova'\n",
    "    list_countries[41]='Russia'\n",
    "    list_countries[50]='Turkey'\n",
    "    list_countries[52]='United Kingdom'\n",
    "    list_countries[11]='Czech Rep.'\n",
    "    list_countries[7]='Bosnia and Herz.'\n",
    "    list_countries[35]='Macedonia'\n",
    "    list_countries=np.delete(list_countries,19)\n",
    "    \n",
    "    df=pd.DataFrame()\n",
    "    df[\"Country/region\"]=list_countries\n",
    "    df['Class']=result['label']\n",
    "    for i in range(df['Class'].max()+1):\n",
    "        lc=list(df[df['Class']==i]['Country/region'].to_numpy())\n",
    "        print('Cluster '+str(i)+\": \", end='')\n",
    "        for l in range(len(lc)):\n",
    "            if l<len(lc)-1:\n",
    "                print(f'{lc[l]}', end=', ')\n",
    "            else:\n",
    "                print(f'{lc[l]}', end='; ')\n",
    "        print('')\n",
    "\n",
    "    political_countries_url = (\n",
    "        \"http://geojson.xyz/naturalearth-3.3.0/ne_50m_admin_0_countries.geojson\"\n",
    "    )\n",
    "    \n",
    "    m = folium.Map(location=(45, -15), zoom_start=3, tiles=\"cartodb positron no labels\")\n",
    "    folium.Choropleth(\n",
    "        geo_data=political_countries_url,\n",
    "        data=df,\n",
    "        columns=(\"Country/region\",\"Class\"),\n",
    "        key_on=\"feature.properties.name\",\n",
    "        fill_color=color, #brewer palette\n",
    "        bins=list(range(len(np.unique(result['label']))+1)),\n",
    "        fill_opacity=0.8,\n",
    "        line_opacity=0.3,\n",
    "        nan_fill_color=\"white\",\n",
    "        legend_name=\"Cluster\",\n",
    "    ).add_to(m)\n",
    "    #m.fit_bounds([[30,10], [70,55]]) \n",
    "    m.save(\"map.html\")\n",
    "    display(m)"
   ]
  },
  {
   "cell_type": "code",
   "execution_count": null,
   "id": "71794488",
   "metadata": {
    "scrolled": true
   },
   "outputs": [],
   "source": [
    "for nc in range(3,9):\n",
    "    for dx in range(2,9):\n",
    "        print((nc,dx))\n",
    "        countryplot('../results/epidemiological/epidemiological_ident_'+str(nc)+'_cluster_'+str(dx)+'_latent_0.pickle')"
   ]
  }
 ],
 "metadata": {
  "colab": {
   "provenance": []
  },
  "kernelspec": {
   "display_name": "Python 3 (ipykernel)",
   "language": "python",
   "name": "python3"
  },
  "language_info": {
   "codemirror_mode": {
    "name": "ipython",
    "version": 3
   },
   "file_extension": ".py",
   "mimetype": "text/x-python",
   "name": "python",
   "nbconvert_exporter": "python",
   "pygments_lexer": "ipython3",
   "version": "3.9.16"
  }
 },
 "nbformat": 4,
 "nbformat_minor": 5
}
