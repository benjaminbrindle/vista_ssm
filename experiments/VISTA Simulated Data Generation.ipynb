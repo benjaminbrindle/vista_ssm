{
 "cells": [
  {
   "cell_type": "code",
   "execution_count": null,
   "id": "91e4f7b8-b852-47cc-b71e-4737fa3aaa11",
   "metadata": {
    "id": "91e4f7b8-b852-47cc-b71e-4737fa3aaa11"
   },
   "outputs": [],
   "source": [
    "from vista_ssm import vista_ssm_Funcs as vista\n",
    "import numpy as np\n",
    "import random\n",
    "import sklearn.datasets\n",
    "from scipy.stats import ortho_group"
   ]
  },
  {
   "cell_type": "code",
   "execution_count": null,
   "id": "8877c151-dc74-4338-9139-82f9ad0f1370",
   "metadata": {
    "colab": {
     "base_uri": "https://localhost:8080/",
     "height": 674
    },
    "id": "1b00ac82-ec60-4649-b123-674701003e83",
    "outputId": "09e38cc7-3bdb-43bf-cd72-3fb33035183f"
   },
   "outputs": [],
   "source": [
    "#data generation\n",
    "param_dic={'DIM_X': 5,\n",
    "           'DIM_Y': 2,\n",
    "           'NUM_DATA': 120,\n",
    "           'N_CLUSTER' : 3,\n",
    "           'NUM_CPU' : 30,\n",
    "           'FIX' : [],\n",
    "           'NUM_LGSSM' : 30,\n",
    "           'MAX_ITER' : 1000,\n",
    "           'EPSILON' : 0.1,\n",
    "           'BIC' : True}\n",
    "#generating random time steps\n",
    "T=40\n",
    "T_diff=25\n",
    "tp=[]\n",
    "for n in range(param_dic['NUM_DATA']):\n",
    "    individual_T=random.randint(T-T_diff,T+T_diff)\n",
    "    individual_points=[0]\n",
    "    for t in range(1,individual_T):\n",
    "        individual_points.append(individual_points[-1]+random.randint(1,5))\n",
    "    tp.append(np.array(individual_points)/individual_points[-1])\n",
    "tp=np.array(tp,dtype=object)\n",
    "\n",
    "#setting parameters\n",
    "params=vista.initializationmethod('random',param_dic,None,None) #initializing MLGSSM with random parameters\n",
    "\n",
    "params['Gamma'][0] = 0.001*np.eye(param_dic['DIM_X'])\n",
    "params['Gamma'][1] = 0.001*np.eye(param_dic['DIM_X'])\n",
    "params['Gamma'][2] = 0.002*np.eye(param_dic['DIM_X'])\n",
    "\n",
    "params['Sigma'][0] = 0.001*np.eye(param_dic['DIM_Y'])\n",
    "params['Sigma'][1] = 0.002*np.eye(param_dic['DIM_Y'])\n",
    "params['Sigma'][2] = 0.001*np.eye(param_dic['DIM_Y'])\n",
    "\n",
    "params['P'][0] = 0.005*np.eye(param_dic['DIM_X'])\n",
    "params['P'][1] = 0.005*np.eye(param_dic['DIM_X'])\n",
    "params['P'][2] = 0.005*np.eye(param_dic['DIM_X'])\n",
    "\n",
    "params['mu'][0] = np.array([0.3, 0., 0.4, -0.1, -0.1], ndmin=2).transpose()\n",
    "params['mu'][1] = np.array([0., -0.2, 0.1, -0.3, 0.6], ndmin=2).transpose()\n",
    "params['mu'][2] = np.array([0.1, 0.3, 0.1, -0.2, 0.], ndmin=2).transpose()\n",
    "\n",
    "params['C'][0] =np.array([[1., 1., 1., 1.,1], [1., 0., 0., 0., 1]])\n",
    "params['C'][1] =np.array([[1., 1., 1., 1.,1], [0., 1., 1., 0., 0.]])\n",
    "params['C'][2] =np.array([[1., 1., 1., 1.,1.], [1., 1., 0., 0., 1.]])\n",
    "\n",
    "O1=ortho_group.rvs(dim=param_dic['DIM_X'])\n",
    "D1=4*np.diag(np.array([-0.5,0.2,-0.3,0.,0.]))\n",
    "params['A'][0] = np.matmul(np.matmul(O1,D1),O1.transpose())\n",
    "params['A'][1] = np.array([[0.4, 0., 0., 0., 0.],[0., 0., -3., 0., 0.],[0.,3., 0., 0., 0.],[0.,0.,0.,0, 4],[0., 0., 0.,-4, 0]])\n",
    "O3=np.eye(param_dic['DIM_X'])\n",
    "D3=np.array([[0., 5., 0., 0., 0.],[-5., 0., -0., 0., 0.],[0.,0., 0.5, 0., 0.],[0.,0.,0.,-1., 0.],[0., 0., 0.,0., 0.5]])\n",
    "params['A'][2] = -np.matmul(np.matmul(O3,D3),O3.transpose())\n",
    "\n",
    "(data,tp,label)=vista.mlgssmSample([40,50,30],params,T,True,T_diff,time_points=tp) #generating MLGSSM"
   ]
  },
  {
   "cell_type": "code",
   "execution_count": null,
   "id": "2MRjQlbH9Uot",
   "metadata": {
    "id": "2MRjQlbH9Uot"
   },
   "outputs": [],
   "source": [
    "simul={'param':params,\n",
    " 'data': data,\n",
    " 'tp':tp,\n",
    " 'label':label}\n",
    "vista.savedic(simul,'../data/sim_data.pickle')"
   ]
  }
 ],
 "metadata": {
  "colab": {
   "provenance": []
  },
  "kernelspec": {
   "display_name": "Python 3 (ipykernel)",
   "language": "python",
   "name": "python3"
  },
  "language_info": {
   "codemirror_mode": {
    "name": "ipython",
    "version": 3
   },
   "file_extension": ".py",
   "mimetype": "text/x-python",
   "name": "python",
   "nbconvert_exporter": "python",
   "pygments_lexer": "ipython3",
   "version": "3.9.16"
  }
 },
 "nbformat": 4,
 "nbformat_minor": 5
}
